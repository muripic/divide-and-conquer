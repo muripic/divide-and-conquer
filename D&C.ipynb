{
 "cells": [
  {
   "cell_type": "code",
   "execution_count": 31,
   "metadata": {},
   "outputs": [],
   "source": [
    "import math\n",
    "from random import seed\n",
    "from random import randint\n",
    "import numpy as np                    #Para trabajar con matrices\n",
    "from binarytree import tree, build    #Para trabajar con árboles\n",
    "\n",
    "#Función para generar arreglos de enteros para tests\n",
    "def generarRandomArr(a, b, size):   #Rango [a,b]\n",
    "    arr = []\n",
    "    for _ in range(size):\n",
    "        valor = randint(a, b)\n",
    "        arr.append(valor)\n",
    "    return arr"
   ]
  },
  {
   "cell_type": "markdown",
   "metadata": {},
   "source": [
    "## Práctica"
   ]
  },
  {
   "cell_type": "markdown",
   "metadata": {},
   "source": [
    "#### Ejercicio 1\n",
    "Escriba un algoritmo con dividir y conquistar que determine si un arreglo de tamaño potencia de 2 es *más\n",
    "a la izquierda*, donde \"más a la izquierda\" significa que:\n",
    "La suma de los elementos de la mitad izquierda superan los de la mitad derecha.\n",
    "- Cada una de las mitades es a su vez \"más a la izquierda\".\n",
    "- Por ejemplo, el arreglo \\[8, 6, 7, 4, 5, 1, 3, 2\\] es \"más a la izquierda\", pero \\[8, 4, 7, 6, 5, 1, 3, 2\\] no lo es.\n",
    "\n",
    "Intente que su solución aproveche la técnica de modo que la complejidad del algoritmo sea estrictamente menor a O(n<sup>2</sup>)."
   ]
  },
  {
   "cell_type": "code",
   "execution_count": 2,
   "metadata": {},
   "outputs": [],
   "source": [
    "#Solución\n",
    "def masALaIzq(A):        #Devuelve una tupla (res: bool, sumaizq: int, sumader: int)\n",
    "    if len(A) == 2:\n",
    "        if A[0] > A[1]:\n",
    "            return (True, A[0], A[1])\n",
    "        else:\n",
    "            return (False, A[0], A[1])\n",
    "    \n",
    "    R1 = masALaIzq(A[0:len(A)//2])          #T(n/2)\n",
    "    R2 = masALaIzq(A[len(A)//2:len(A)])     #T(n/2)\n",
    "    sumaR1 = R1[1] + R1[2]\n",
    "    sumaR2 = R2[1] + R2[2]\n",
    "    \n",
    "    return (R1[0] and R2[0] and sumaR1 > sumaR2, sumaR1, sumaR2)"
   ]
  },
  {
   "cell_type": "code",
   "execution_count": 3,
   "metadata": {},
   "outputs": [
    {
     "name": "stdout",
     "output_type": "stream",
     "text": [
      "Resultado test 1:  (True, 25, 11)\n",
      "Resultado test 2:  (False, 25, 11)\n",
      "Resultado test 3:  (False, 27, 29)\n",
      "Resultado test 4:  (True, 12, 11)\n"
     ]
    }
   ],
   "source": [
    "#Tests\n",
    "A = [8, 6, 7, 4, 5, 1, 3, 2]    #Resultado esperado: True\n",
    "print(\"Resultado test 1: \", masALaIzq(A))\n",
    "\n",
    "B = [8, 4, 7, 6, 5, 1, 3, 2]    #Resultado esperado: False\n",
    "print(\"Resultado test 2: \", masALaIzq(B))\n",
    "\n",
    "C = [2, 10, 9, 6, 9, 9, 5, 6]   #Resultado esperado: False\n",
    "print(\"Resultado test 3: \", masALaIzq(C))\n",
    "\n",
    "D = [10, 2, 6, 5]               #Resultado esperado: True\n",
    "print(\"Resultado test 4: \", masALaIzq(D))"
   ]
  },
  {
   "cell_type": "markdown",
   "metadata": {},
   "source": [
    "**Complejidad**: La recurrencia es de la forma T(n) = 2 T(n/2) + O(1). Por el Teorema Maestro, la complejidad es O(n)."
   ]
  },
  {
   "cell_type": "markdown",
   "metadata": {},
   "source": [
    "#### Ejercicio 2\n",
    "Tenemos un arreglo a = \\[a<sub>1</sub>, a<sub>2</sub>, ..., a<sub>n</sub>\\] de n enteros distintos (positivos y negativos) en orden estrictamente creciente. Queremos determinar si existe una posición i tal que a<sub>i</sub> = i. Por ejemplo, dado el arreglo A = \\[-4, -1, 2, 4, 7\\], i = 4 es esa posición.\n",
    "Diseñar un algoritmo dividir y conquistar eficiente (de complejidad de orden estrictamente menor que lineal) que resuelva el problema. Calcule y justifique la complejidad del algoritmo dado.\n",
    "\n",
    "**Aclaración**: en el ejemplo, la primera posición del arreglo es i = 1. Aquí se considerará que la primera posición es i = 0 y, por lo tanto, el resultado esperado del ejemplo de arriba sería *False*."
   ]
  },
  {
   "cell_type": "code",
   "execution_count": 4,
   "metadata": {},
   "outputs": [],
   "source": [
    "#Solución\n",
    "def buscarIndIgualContenido(A, posInicial):   #Devuelve bool\n",
    "    if len(A) == 1:\n",
    "        return A[0] == posInicial\n",
    "    \n",
    "    m = len(A)//2\n",
    "    if A[m] < m + posInicial:\n",
    "        return buscarIndIgualContenido(A[m:len(A)], m + posInicial)\n",
    "    elif A[m] > m + posInicial:\n",
    "        return buscarIndIgualContenido(A[0:m], 0 + posInicial)\n",
    "    else:\n",
    "        return True"
   ]
  },
  {
   "cell_type": "code",
   "execution_count": 5,
   "metadata": {},
   "outputs": [
    {
     "name": "stdout",
     "output_type": "stream",
     "text": [
      "Resultado test 1:  True\n",
      "Resultado test 2:  False\n",
      "Resultado test 3:  True\n",
      "Resultado test 4:  True\n"
     ]
    }
   ],
   "source": [
    "#Tests\n",
    "A = [-4, -1, 2, 4, 7]    #Resultado esperado: True\n",
    "print(\"Resultado test 1: \", buscarIndIgualContenido(A, 0))\n",
    "\n",
    "B = [-4, -1, 4, 5, 7, 8]    #Resultado esperado: False\n",
    "print(\"Resultado test 2: \", buscarIndIgualContenido(B, 0))\n",
    "\n",
    "C = [-1, 0, 1, 2, 3, 5]    #Resultado esperado: True\n",
    "print(\"Resultado test 3: \", buscarIndIgualContenido(C, 0))\n",
    "\n",
    "D = [0, 2, 3, 4, 7, 8]    #Resultado esperado: True\n",
    "print(\"Resultado test 4: \", buscarIndIgualContenido(D, 0))"
   ]
  },
  {
   "cell_type": "markdown",
   "metadata": {},
   "source": [
    "**Complejidad**: La recurrencia es de la forma T(n) = T(n/2) + O(1). Por el Teorema Maestro, la complejidad es O(log n)."
   ]
  },
  {
   "cell_type": "markdown",
   "metadata": {},
   "source": [
    "#### Ejercicio 3\n",
    "Encuentre un algoritmo para calcular a<sup>b</sup> en tiempo logarítmico en b. Piense cómo reutilizar los resultados ya calculados. Justifique la complejidad del algoritmo dado."
   ]
  },
  {
   "cell_type": "code",
   "execution_count": 6,
   "metadata": {},
   "outputs": [],
   "source": [
    "#Solución\n",
    "def potencia(b, p):\n",
    "    if p == 0:\n",
    "        return 1\n",
    "    elif p == 1:\n",
    "        return b\n",
    "    \n",
    "    r = potencia(b, p//2)    #T(p/2)\n",
    "    if p % 2 == 0:\n",
    "        return r*r\n",
    "    else:\n",
    "        return b*r*r"
   ]
  },
  {
   "cell_type": "code",
   "execution_count": 7,
   "metadata": {},
   "outputs": [
    {
     "name": "stdout",
     "output_type": "stream",
     "text": [
      "3^3 =  27\n",
      "2^5 =  32\n",
      "5^0 =  1\n",
      "5^1 =  5\n",
      "5^3 =  125\n"
     ]
    }
   ],
   "source": [
    "#Tests\n",
    "print(\"3^3 = \", potencia(3, 3))\n",
    "print(\"2^5 = \", potencia(2, 5))\n",
    "print(\"5^0 = \", potencia(5, 0))\n",
    "print(\"5^1 = \", potencia(5, 1))\n",
    "print(\"5^3 = \", potencia(5, 3))"
   ]
  },
  {
   "cell_type": "markdown",
   "metadata": {},
   "source": [
    "**Complejidad**: La recurrencia es de la forma T(p) = T(p/2) + O(1). Por el Teorema Maestro, la complejidad es O(log p)."
   ]
  },
  {
   "cell_type": "markdown",
   "metadata": {},
   "source": [
    "#### Ejercicio 5\n",
    "Suponga que se tiene un método *potencia* que, dada un matriz cuadrada A de orden 4 × 4 y un número *n*,\n",
    "computa la matriz A<sup>n</sup>. Dada una matriz cuadrada A de orden 4 × 4 y un número natural *n* que es potencia de 2 (i.e., n = 2<sup>k</sup> para algun k ≥ 1), desarrollar, utilizando la técnica de dividir y conquistar y el método *potencia*, un algoritmo que permita calcular A<sup>1</sup> + A<sup>2</sup> + ... + A<sup>n</sup>.\n",
    "Calcule el número de veces que el algoritmo propuesto aplica el método *potencia*. Si no es estrictamente menor que O(n), resuelva el ejercicio nuevamente.\n",
    "\n",
    "**Idea:**\n",
    "F(1) = A </br>\n",
    "F(2) = A + A² = A(I + A) </br>\n",
    "F(4) = A + A² + A³ + A⁴ = (A + A²)(I + A²) = A(I + A)(I + A²) = F(2)(I + A²) </br>\n",
    "Forma general: F(n) = F(n/2)*(I + A^(n/2)) </br>\n",
    "(Tomada de https://stackoverflow.com/questions/18890570/matrix-power-sum)"
   ]
  },
  {
   "cell_type": "code",
   "execution_count": 32,
   "metadata": {},
   "outputs": [],
   "source": [
    "#Solución\n",
    "def sumaPotenciasMatriz(A, n):\n",
    "    if n == 1:\n",
    "        return A\n",
    "    if n == 2:      \n",
    "        return np.add(A, np.linalg.matrix_power(A, 2))  #np.linalg.matrix_power(A, n) es el método potencia\n",
    "                                                        #np.add y np.matmul son suma y producto de matrices respectivamente\n",
    "    I = [[1, 0, 0, 0],     # matriz identidad\n",
    "         [0, 1, 0, 0],\n",
    "         [0, 0, 1, 0],\n",
    "         [0, 0, 0, 1]]\n",
    "    I = np.array(I)\n",
    "    S = np.add(I, np.linalg.matrix_power(A, n//2))      #Suma matriz identidad + potencia n/2\n",
    "    return np.matmul(sumaPotenciasMatriz(A, n//2), S)   #T(n/2)"
   ]
  },
  {
   "cell_type": "code",
   "execution_count": 33,
   "metadata": {},
   "outputs": [
    {
     "name": "stdout",
     "output_type": "stream",
     "text": [
      "Resultado esperado:\n",
      " [[  7  19  29  40]\n",
      " [ 14  49  72 103]\n",
      " [  8  37  57  73]\n",
      " [  9  50  70 103]]\n",
      "Resultado:\n",
      " [[  7  19  29  40]\n",
      " [ 14  49  72 103]\n",
      " [  8  37  57  73]\n",
      " [  9  50  70 103]]\n"
     ]
    }
   ],
   "source": [
    "#Tests\n",
    "A = [[1, 0, 0, 1],\n",
    "     [2, 0, 1, 2],\n",
    "     [-1, 1, 0, 2],\n",
    "     [0, 1, 2, 1]]\n",
    "A = np.array(A)\n",
    "A2 = np.linalg.matrix_power(A, 2)\n",
    "A3 = np.linalg.matrix_power(A, 3)\n",
    "A4 = np.linalg.matrix_power(A, 4)\n",
    "sum1 = np.add(A, A2)\n",
    "sum2 = np.add(A3, A4)\n",
    "print(\"Resultado esperado:\\n\", np.add(sum1, sum2))\n",
    "print(\"Resultado:\\n\", sumaPotenciasMatriz(A, 4))"
   ]
  },
  {
   "cell_type": "markdown",
   "metadata": {},
   "source": [
    "**Complejidad**: La recurrencia tiene la forma T(n) = T(n/2) + O(1), donde n es la cantidad de veces que se aplica el método *potencia*. Por el Teorema Maestro, la complejidad es O(log n)."
   ]
  },
  {
   "cell_type": "markdown",
   "metadata": {},
   "source": [
    "#### Ejercicio 6\n",
    "Dado un árbol binario cualquiera, diseñar un algoritmo de dividir y conquistar que devuelva la máxima distancia entre dos nodos (es decir, máxima cantidad de ejes a atravesar). El algoritmo no debe hacer recorridos innecesarios sobre el árbol."
   ]
  },
  {
   "cell_type": "code",
   "execution_count": 54,
   "metadata": {},
   "outputs": [],
   "source": [
    "#Solución\n",
    "def maxDistanciaSubarb(A):\n",
    "    if A == None:\n",
    "        return 0\n",
    "    if A.left == None and A.right == None:\n",
    "        return 1\n",
    "\n",
    "    return 1 + max(maxDistanciaSubarb(A.left), maxDistanciaSubarb(A.right))\n",
    "\n",
    "def maxDistancia(A):\n",
    "    return 1 + maxDistanciaSubarb(A.left) + maxDistanciaSubarb(A.right)"
   ]
  },
  {
   "cell_type": "code",
   "execution_count": 61,
   "metadata": {},
   "outputs": [
    {
     "name": "stdout",
     "output_type": "stream",
     "text": [
      "\n",
      "    __1__\n",
      "   /     \\\n",
      "  2       3\n",
      " / \\     /\n",
      "4   5   6\n",
      "\n",
      "Resultado test 1: 5\n",
      "\n",
      "  _____8__\n",
      " /        \\\n",
      "13         9___\n",
      "  \\       /    \\\n",
      "   6     2     _14\n",
      "    \\         /   \\\n",
      "     4       11    5\n",
      "\n",
      "Resultado test 2: 7\n"
     ]
    }
   ],
   "source": [
    "#Tests\n",
    "valuesA = [1,2,3,4,5,6]\n",
    "A = build(valuesA)\n",
    "print(A)\n",
    "print(\"Resultado test 1:\", maxDistancia(A))\n",
    "                                        \n",
    "B = tree(is_perfect=False)\n",
    "print(B)\n",
    "print(\"Resultado test 2:\", maxDistancia(B))"
   ]
  },
  {
   "cell_type": "markdown",
   "metadata": {},
   "source": [
    "#### Ejercicio 7\n",
    "La cantidad de parejas en desorden de un arreglo A\\[1...n\\] es la cantidad de parejas de posiciones 1 ≤ i <\n",
    "j ≤ n tales que A\\[i\\] > A\\[j\\]. Dar un algoritmo que calcule la cantidad de parejas en desorden de un arreglo\n",
    "y cuya complejidad temporal sea estrictamente mejor que O(n<sup>2</sup>) en el peor caso.\n",
    "\n",
    "**Hint**: Considerar hacer una modificación de un algoritmo de sorting."
   ]
  },
  {
   "cell_type": "code",
   "execution_count": null,
   "metadata": {},
   "outputs": [],
   "source": []
  },
  {
   "cell_type": "markdown",
   "metadata": {},
   "source": [
    "## Ejercicios de parcial"
   ]
  },
  {
   "cell_type": "markdown",
   "metadata": {},
   "source": [
    "### 1) Divide & Conquer sobre arreglos"
   ]
  },
  {
   "cell_type": "markdown",
   "metadata": {},
   "source": [
    "#### 1er cuatrimestre 2017 (Parcial)\n",
    "\n",
    "Una empresa informa todos los días el cierre de sus ganancias netas (que pueden ser negativas si tuvo\n",
    "pérdida ese día). Dado un arreglo con tales montos para un período de n días consecutivos, el directorio de la\n",
    "empresa necesita conocer en qué intervalo de días (dentro de este período) se obtuvo la mayor ganancia (la\n",
    "ganancia en un intervalo de días es la suma de los montos informados en los días dentro de ese intervalo).\n",
    "Usando la técnica de D&C, dar un algoritmo que tome un arreglo con los montos de n días consecutivos (i.e., los días de 0 a n−1) e indique un intervalo de días \\[i, j\\], con 0 ≤ i ≤ j < n, en el cual se maximiza la suma de tales montos (puede asumirse que n > 0). El algoritmo propuesto debe tener complejidad estrictamente menor que O(n<sup>2</sup>), lo cual debe justificarse adecuadamente.\n",
    "\n",
    "***Ayuda***: Si pidiésemos que el intervalo devuelto contenga sí o sí un determinado día k, entonces el problema\n",
    "se resuelve en tiempo O(n) (¡pensar cómo!). Aprvechar ese procedimiento en el algoritmo global de D&C\n",
    "implementado."
   ]
  },
  {
   "cell_type": "code",
   "execution_count": 10,
   "metadata": {},
   "outputs": [],
   "source": [
    "#Solución\n",
    "def periodoMaxGananciaCentro(A, posInicial):  # Devuelve una tupla: (inicio: nat, fin: nat, ganancia: nat)\n",
    "    if len(A) == 2:\n",
    "        return (posInicial + 0, posInicial + 1, A[0] + A[1])\n",
    "    \n",
    "    sumaActual = A[len(A)//2]                 # mayor hacia derecha\n",
    "    sumaMaxDer = A[len(A)//2]\n",
    "    indiceFin = len(A)//2\n",
    "    for i in range(len(A)//2+1,len(A)): \n",
    "        sumaActual = sumaActual + A[i]\n",
    "        if sumaActual > sumaMaxDer:\n",
    "            sumaMaxDer = sumaActual\n",
    "            indiceFin = i\n",
    "    \n",
    "    sumaActual = A[len(A)//2]                 # mayor hacia izquierda\n",
    "    sumaMaxIzq = A[len(A)//2]\n",
    "    indiceInicio = len(A)//2\n",
    "    i = len(A)//2-1\n",
    "    while i >= 0:\n",
    "        sumaActual = sumaActual + A[i]\n",
    "        if sumaActual > sumaMaxIzq:\n",
    "            sumaMaxIzq = sumaActual\n",
    "            indiceInicio = i\n",
    "        i-=1\n",
    "    \n",
    "    return (indiceInicio + posInicial, indiceFin + posInicial, sumaMaxIzq + sumaMaxDer - A[len(A)//2])\n",
    "\n",
    "def periodoMaxGanancia(A, posInicial):   # Devuelve una tupla: (inicio: nat, fin: nat, ganancia: nat)\n",
    "    if len(A) == 1:\n",
    "        return (posInicial + 0, posInicial + 0, A[0])\n",
    "    \n",
    "    p1 = periodoMaxGanancia(A[0:len(A)//2], posInicial)                   #T(n/2)\n",
    "    p2 = periodoMaxGanancia(A[len(A)//2:len(A)], len(A)//2 + posInicial)  #T(n/2)\n",
    "    p3 = periodoMaxGananciaCentro(A, posInicial)                          #O(n)\n",
    "    \n",
    "    res = p1\n",
    "    if p2[2] > res[2]:\n",
    "        res = p2\n",
    "    if p3[2] > res[2]:\n",
    "        res = p3\n",
    "    return res"
   ]
  },
  {
   "cell_type": "code",
   "execution_count": 11,
   "metadata": {},
   "outputs": [
    {
     "name": "stdout",
     "output_type": "stream",
     "text": [
      "Caso de test 1:  [-13, 15, -2, -1, 5, 18, 18, -19, 14, -5]\n",
      "Resultado test 1:  (1, 6, 53) \n",
      "\n",
      "Caso de test 2:  [27, 20, -40, 23, 5]\n",
      "Resultado test 2:  (0, 1, 47) \n",
      "\n",
      "Caso de test 3:  [16, 17, 25, -5, 3, -3, 24, 10]\n",
      "Resultado test 3:  (0, 7, 87) \n",
      "\n",
      "Caso de random test 1:  [-11, 11, -1, -1, -4, 1, -1, 13, -3, -4]\n",
      "Resultado random test 1:  (1, 7, 18) \n",
      "\n",
      "Caso de random test 2:  [-33, -8, -15, 36, -39]\n",
      "Resultado random test 2:  (3, 3, 36) \n",
      "\n",
      "Caso de random test 3:  [10, 17, 16, 10, 17, 4, 12, 6]\n",
      "Resultado random test 3:  (0, 7, 92) \n",
      "\n"
     ]
    }
   ],
   "source": [
    "#Tests\n",
    "test1 = [-13, 15, -2, -1, 5, 18, 18, -19, 14, -5]   #Resultado esperado: (1, 6, 53)\n",
    "test2 = [27, 20, -40, 23, 5]                        #Resultado esperado: (0, 1, 47)\n",
    "test3 = [16, 17, 25, -5, 3, -3, 24, 10]             #Resultado esperado: (0, 7, 87)\n",
    "rndmtest1 = generarRandomArr(-20, 20, 10)\n",
    "rndmtest2 = generarRandomArr(-50, 50, 5)\n",
    "rndmtest3 = generarRandomArr(-5, 25, 8)\n",
    "\n",
    "print(\"Caso de test 1: \", test1)\n",
    "print(\"Resultado test 1: \", periodoMaxGanancia(test1, 0), \"\\n\")\n",
    "\n",
    "print(\"Caso de test 2: \", test2)\n",
    "print(\"Resultado test 2: \", periodoMaxGanancia(test2, 0), \"\\n\")\n",
    "\n",
    "print(\"Caso de test 3: \", test3)\n",
    "print(\"Resultado test 3: \", periodoMaxGanancia(test3, 0), \"\\n\")\n",
    "\n",
    "print(\"Caso de random test 1: \", rndmtest1)\n",
    "print(\"Resultado random test 1: \", periodoMaxGanancia(rndmtest1, 0),\"\\n\")\n",
    "\n",
    "print(\"Caso de random test 2: \", rndmtest2)\n",
    "print(\"Resultado random test 2: \", periodoMaxGanancia(rndmtest2, 0), \"\\n\")\n",
    "\n",
    "print(\"Caso de random test 3: \", rndmtest3)\n",
    "print(\"Resultado random test 3: \", periodoMaxGanancia(rndmtest3, 0), \"\\n\")"
   ]
  },
  {
   "cell_type": "markdown",
   "metadata": {},
   "source": [
    "**Complejidad**: la recurrencia tiene la forma T(n) = 2 T(n/2) + O(n). <br />\n",
    "a = 2, c = 2, log2 (2) = 1 <br /> \n",
    "Por el teorema maestro (2do caso), la complejidad del algoritmo es O(n log n)."
   ]
  },
  {
   "cell_type": "markdown",
   "metadata": {},
   "source": [
    "#### 1er cuatrimestre 2017 (Recuperatorio)\n",
    "\n",
    "Se tiene un arreglo de naturales sin repeticiones que estaba ordenado pero al cual se lo rotó circularmente k\n",
    "posiciones a la derecha. Por ejemplo, \\[10, 13, 1, 4, 6, 7, 8\\] fue rotado k = 2 veces mientras que \\[6, 7, 8, 10, 13, 1, 4\\] fue rotado 5 veces. Escribir un algoritmo que reciba uno de estos arreglos y devuelva el máximo elemento en\n",
    "tiempo estrictamente menor que O(*n*). Justifique la correctitud del algoritmo y su complejidad temporal."
   ]
  },
  {
   "cell_type": "code",
   "execution_count": 12,
   "metadata": {},
   "outputs": [],
   "source": [
    "#Solución\n",
    "def maxArrRotado(arr):\n",
    "    if len(arr) == 1:\n",
    "        return arr[0]                    #O(1)\n",
    "    elif len(arr) == 2:\n",
    "        return max(arr[0], arr[1])       #O(1)\n",
    "    m = len(arr)//2\n",
    "    if arr[0] > arr[m]:\n",
    "        return maxArrRotado(arr[0:m])  #T(n/2)\n",
    "    else:\n",
    "        return maxArrRotado(arr[m:len(arr)])"
   ]
  },
  {
   "cell_type": "code",
   "execution_count": 13,
   "metadata": {},
   "outputs": [
    {
     "name": "stdout",
     "output_type": "stream",
     "text": [
      "Caso de test 1:  [10, 13, 1, 4, 6, 7, 8]\n",
      "Resultado test 1:  13 \n",
      "\n",
      "Caso de test 2:  [6, 7, 8, 10, 12, 1, 4]\n",
      "Resultado test 2:  12 \n",
      "\n",
      "Caso de test 3:  [1, 4, 6, 7, 8, 10, 12]\n",
      "Resultado test 3:  12 \n",
      "\n"
     ]
    }
   ],
   "source": [
    "#Tests\n",
    "test1 = [10, 13, 1, 4, 6, 7, 8]\n",
    "test2 = [6, 7, 8, 10, 12, 1, 4] \n",
    "test3 = [1, 4, 6, 7, 8, 10, 12]\n",
    "\n",
    "print(\"Caso de test 1: \", test1)\n",
    "print(\"Resultado test 1: \", maxArrRotado(test1), \"\\n\")\n",
    "\n",
    "print(\"Caso de test 2: \", test2)\n",
    "print(\"Resultado test 2: \", maxArrRotado(test2), \"\\n\")\n",
    "\n",
    "print(\"Caso de test 3: \", test3)\n",
    "print(\"Resultado test 3: \", maxArrRotado(test3), \"\\n\")"
   ]
  },
  {
   "cell_type": "markdown",
   "metadata": {},
   "source": [
    "**Complejidad**: la recurrencia tiene la forma T(n) = T(n/2) + O(1). <br />\n",
    "a = 1, c = 2, log2(1) = 0 <br /> \n",
    "Por el teorema maestro (2do caso), la complejidad del algoritmo es O(log n)."
   ]
  },
  {
   "cell_type": "markdown",
   "metadata": {},
   "source": [
    "#### 2do cuatrimestre 2018 (Recuperatorio)\n",
    "Un arreglo de enteros es de a lo sumo uno distinto si a lo sumo un elemento del arreglo es distinto del resto.\n",
    "Por ejemplo los arreglos \\[1, 1, 1\\], \\[1, 2, 1, 1, 1\\] y \\[5, 71\\] son de a lo sumo uno distinto pero los arreglos \\[1, 2, 1, 2, 2\\] y \\[1, 2, 3\\] no lo son.\n",
    "Se pide diseñar un algoritmo de Divide & Conquer que, dado un arreglo cualquiera, devuelva la longitud del subarreglo (de elementos contiguos) más largo que sea a lo sumo uno distinto. Por ejemplo, dado el arreglo \\[5, 1, 1, 2, 1, 7\\] la respuesta del algoritmo debería ser 4 (la longitud del subarreglo \\[1, 1, 2, 1\\]). El algoritmo debe tener una complejidad temporal estrictamente menor que O(n²). La complejidad del algoritmo debe estar correctamente justificada."
   ]
  },
  {
   "cell_type": "code",
   "execution_count": 14,
   "metadata": {},
   "outputs": [],
   "source": [
    "#Solución\n",
    "def maxUnoDistintoCentro(arr):\n",
    "    maxCen = 1\n",
    "    m = len(arr)//2\n",
    "    i = m-1\n",
    "    while i >= 0 and arr[i] == arr[m]:\n",
    "        maxCen +=1\n",
    "        i-=1\n",
    "    j = m+1\n",
    "    while j < len(arr) and arr[j] == arr[m]:\n",
    "        maxCen +=1\n",
    "        j+=1\n",
    "    #i es el índice del primero que es dif a izq, j es el índice del primero que es dif a der\n",
    "    if maxCen > 1:\n",
    "        difIzq = i\n",
    "        maxIzq = 1\n",
    "        if i != -1:\n",
    "            i-=1\n",
    "            while i >= 0 and arr[i] == arr[m]:\n",
    "                maxIzq+=1\n",
    "                i-=1\n",
    "        difDer = j\n",
    "        maxDer = 1\n",
    "        if j != len(arr):\n",
    "            j+=1\n",
    "            while j < len(arr) and arr[j] == arr[m]:\n",
    "                maxDer+=1\n",
    "                j+=1\n",
    "        maxCen = maxCen + max(maxIzq, maxDer)\n",
    "    if maxCen == 1:\n",
    "        izq = i\n",
    "        maxIzq = 1\n",
    "        if i != -1:\n",
    "            i-=1\n",
    "            while i >= 0 and arr[i] == arr[izq]:\n",
    "                maxIzq+=1\n",
    "                i-=1\n",
    "        der = j\n",
    "        maxDer = 1\n",
    "        if j != len(arr):\n",
    "            j+=1\n",
    "            while j < len(arr) and arr[j] == arr[der]:\n",
    "                maxDer+=1\n",
    "                j+=1\n",
    "        if izq >= 0 and der < len(arr) and arr[izq] == arr[der]:\n",
    "            maxCen = maxCen + maxIzq + maxDer\n",
    "        else:\n",
    "            maxCen = maxCen + max(maxIzq, maxDer)\n",
    "\n",
    "    return maxCen\n",
    "\n",
    "def maxUnoDistinto(arr):\n",
    "    if len(arr) == 1:\n",
    "        return 1\n",
    "    if len(arr) == 2:\n",
    "        return 2\n",
    "    r1 = maxUnoDistinto(arr[0:len(arr)//2])            #T(n/2)\n",
    "    r2 = maxUnoDistinto(arr[len(arr)//2:len(arr)])     #T(n/2)\n",
    "    r3 = maxUnoDistintoCentro(arr)                       #O(n)\n",
    "    return max(max(r1, r2), r3)"
   ]
  },
  {
   "cell_type": "code",
   "execution_count": 15,
   "metadata": {},
   "outputs": [
    {
     "name": "stdout",
     "output_type": "stream",
     "text": [
      "Caso de test 1:  [5, 1, 1, 2, 1, 7]\n",
      "Resultado test 1:  4 \n",
      "\n",
      "Caso de test 2:  [5, 1, 3, 2, 1]\n",
      "Resultado test 2:  2 \n",
      "\n",
      "Caso de test 3:  [5, 1, 1, 1, 2, 7]\n",
      "Resultado test 3:  4 \n",
      "\n",
      "Caso de random test 1:  [2, 2, 6, 4, 8, 3, 4, 4, 5, 0]\n",
      "Resultado random test 1:  3 \n",
      "\n",
      "Caso de random test 2:  [4, 2, 4, 5, 2]\n",
      "Resultado random test 2:  2 \n",
      "\n",
      "Caso de random test 3:  [2, 4, 3, 4, 2, 2, 3, 2]\n",
      "Resultado random test 3:  4 \n",
      "\n"
     ]
    }
   ],
   "source": [
    "#Tests\n",
    "test1 = [5, 1, 1, 2, 1, 7]\n",
    "test2 = [5, 1, 3, 2, 1]\n",
    "test3 = [5, 1, 1, 1, 2, 7]\n",
    "rndmtest1 = generarRandomArr(0, 8, 10)\n",
    "rndmtest2 = generarRandomArr(1, 5, 5)\n",
    "rndmtest3 = generarRandomArr(2, 4, 8)\n",
    "\n",
    "print(\"Caso de test 1: \", test1)\n",
    "print(\"Resultado test 1: \", maxUnoDistinto(test1), \"\\n\")\n",
    "\n",
    "print(\"Caso de test 2: \", test2)\n",
    "print(\"Resultado test 2: \", maxUnoDistinto(test2), \"\\n\")\n",
    "\n",
    "print(\"Caso de test 3: \", test3)\n",
    "print(\"Resultado test 3: \", maxUnoDistinto(test3), \"\\n\")\n",
    "\n",
    "print(\"Caso de random test 1: \", rndmtest1)\n",
    "print(\"Resultado random test 1: \", maxUnoDistinto(rndmtest1),\"\\n\")\n",
    "\n",
    "print(\"Caso de random test 2: \", rndmtest2)\n",
    "print(\"Resultado random test 2: \", maxUnoDistinto(rndmtest2), \"\\n\")\n",
    "\n",
    "print(\"Caso de random test 3: \", rndmtest3)\n",
    "print(\"Resultado random test 3: \", maxUnoDistinto(rndmtest3), \"\\n\")"
   ]
  },
  {
   "cell_type": "markdown",
   "metadata": {},
   "source": [
    "**Complejidad**: la recurrencia tiene la forma T(n) = 2 T(n/2) + O(n). <br />\n",
    "a = 2, c = 2, log2 (2) = 1 <br /> \n",
    "Por el teorema maestro (2do caso), la complejidad del algoritmo es O(n log n)."
   ]
  },
  {
   "cell_type": "markdown",
   "metadata": {},
   "source": [
    "### 2) Divide & Conquer sobre matrices"
   ]
  },
  {
   "cell_type": "markdown",
   "metadata": {},
   "source": [
    "#### 2do cuatrimestre 2015 (Parcial)\n",
    "El famoso y archiconocido juego ***3mb0l3*** se juega, como todos saben, sobre un tablero cuadrado de lado n con n = 2k para algún k natural. El tablero está dividido en n × n casillas. Participan dos jugadores, cada uno tiene su identificador **B** o **N**. En algunas casillas del tablero, un jugador colocó su identicador. Puede haber casillas vacías y no hay más de un identicador por casilla. Una vez finalizado el juego, para decidir el ganador se consideran k + 1 niveles distintos, numerados de 0 a k. El nivel i se forma dividiendo el cuadrado original en 2^(k−i) × 2^(k-i) casillas. Así, el nivel k consta de una sola casilla, el k −1 de un tablero de 2 × 2 y así siguiendo. Se puede ver en la gura cómo quedan los distintos niveles. Para cada casilla de cada nivel (salvo el 0), se toma como dueño de la misma al jugador que más casillas controla del nivel anterior teniendo en cuenta solamente las que están contenidas en la casilla grande. Se coloca el identicador del dueño en cada casilla, y en caso de empate se coloca una **E**. Para cada nivel, se toma como ganador del nivel al que más casillas controla de ese nivel. Acá nuevamente puede haber empate. Por último se dice que el ganador del juego es aquel que haya ganado mayor cantidad de niveles. Realizar un algoritmo que dado un tablero, con los dueños de cada casillero en el nivel 0, devuelva si gana **B** o **N** todo el juego, o **E** si hay empate.\n",
    "Se pide dar un algoritmo que utilice la técnica de Dividir y Conquitar y además se debe calcular y justicar su complejidad temporal.\n",
    "En el ejemplo de la figura, se tiene un tablero con n = 2^2, por lo que hay niveles de 0 a 2. Por ejemplo, en el nivel 1 la casilla inferior izquierda es controlada por **B**, pues entre las casillas correspondientes en el nivel 0 hay tres **B** y una **N**. El nivel 0 es empate pues hay igual cantidad de casillas controladas por cada jugador, el nivel 1 lo gana **B** pues hay dos **B** y sólo una **N** y el nivel 2 lo gana **B**. Como **B** ganó dos niveles y **N** ninguno, el algoritmo debe dar **B** como respuesta.\n",
    "<center>\n",
    "<img src=\"D&C_pics/tablero.jpg\" alt=\"drawing\" width=\"200\" /> <br/>\n",
    "    </center>"
   ]
  },
  {
   "cell_type": "code",
   "execution_count": 16,
   "metadata": {},
   "outputs": [],
   "source": [
    "#Solución\n",
    "def construirSigNivel(A):    # Devuelve una matriz que corresponde al nivel siguiente a A\n",
    "    if len(A) == 2:\n",
    "        contE = 0\n",
    "        contB = 0\n",
    "        contN = 0\n",
    "        for i in range(0,len(A)):\n",
    "            for j in range(0,len(A)):\n",
    "                if A[i][j] == 'E':\n",
    "                    contE += 1\n",
    "                elif A[i][j] == 'B':\n",
    "                    contB += 1\n",
    "                else:\n",
    "                    contN +=1\n",
    "        if contB > contN:\n",
    "            return [['B']]\n",
    "        elif contN > contB:\n",
    "            return [['N']]\n",
    "        else:\n",
    "            return [['E']]\n",
    "        \n",
    "    n = len(A)\n",
    "    A = np.array(A)\n",
    "    g1 = construirSigNivel(A[0:n//2,0:n//2])            #T(n/4)\n",
    "    g2 = construirSigNivel(A[0:len(A)//2,n//2:n])       #T(n/4)\n",
    "    g3 = construirSigNivel(A[n//2:n,0:n//2])            #T(n/4)\n",
    "    g4 = construirSigNivel(A[n//2:n,n//2:n])            #T(n/4)\n",
    "    \n",
    "    G1 = np.concatenate((g1, g2), axis=1)\n",
    "    G2 = np.concatenate((g3,g4),  axis=1)\n",
    "    G = np.concatenate((G1, G2), axis=0)\n",
    "    return G                                                       #Complejidad total: O(n^2)\n",
    "\n",
    "def jugar3mb013(A, k):     #Toma un tablero y un nivel y devuelve el ganador hasta ese nivel\n",
    "    puntN = 0\n",
    "    puntB = 0\n",
    "    nivel = 0\n",
    "    while nivel <= k:                           #k*\n",
    "        A = np.array(A)\n",
    "        T = construirSigNivel(A)                 #O(n^2)\n",
    "        resJ = jugar3mb013(T, nivel)             #O(n)\n",
    "        if resJ[0] > resJ[1]:\n",
    "            puntN+=1\n",
    "        elif resJ[1] > resS[0]:\n",
    "            puntB+=1\n",
    "        nivel+=1\n",
    "    if puntN < puntB:\n",
    "        return 'B'\n",
    "    elif puntB < puntN:\n",
    "        return 'N'\n",
    "    else:\n",
    "        return 'E'\n",
    "\n",
    "def calcularGanador(A):       #Devuelve una tupla <N: nat, B: nat> con la cantidad de N y de B\n",
    "    if len(A) == 1:\n",
    "        if A[0][0] == 'N':\n",
    "            return (1,0)\n",
    "        elif A[0][0] == 'B':\n",
    "            return (0,1)\n",
    "        else:\n",
    "            return (0,0)\n",
    "    \n",
    "    ultNivel = int(math.log(len(A),2))\n",
    "    print(ultNivel)\n",
    "    n = len(A)\n",
    "    A = np.array(A)\n",
    "    g1 = jugar3mb013(A[0:n//2,0:n//2], ultNivel-1)         #T(n/4)\n",
    "    g2 = jugar3mb013(A[0:n//2,n//2:n], ultNivel-1)         #T(n/4)\n",
    "    g3 = jugar3mb013(A[n//2:n,0:n//2], ultNivel-1)         #T(n/4)\n",
    "    g4 = jugar3mb013(A[n//2:n,n//2:n], ultNivel-1)         #T(n/4)\n",
    "    \n",
    "    puntN = g1[0] + g2[0] + g3[0] + g4[0]\n",
    "    puntB = g1[1] + g2[1] + g3[1] + g4[1]\n",
    "    \n",
    "    if puntN < puntB:\n",
    "        return (0, 1)\n",
    "    elif puntB < puntN:\n",
    "        return (1, 0)\n",
    "    else:\n",
    "        return (0, 0)\n",
    "\n",
    "#Complejidad: 4 T(n/4) + O(1) -> O(n)"
   ]
  },
  {
   "cell_type": "code",
   "execution_count": 17,
   "metadata": {},
   "outputs": [
    {
     "ename": "RecursionError",
     "evalue": "maximum recursion depth exceeded while calling a Python object",
     "output_type": "error",
     "traceback": [
      "\u001b[1;31m---------------------------------------------------------------------------\u001b[0m",
      "\u001b[1;31mRecursionError\u001b[0m                            Traceback (most recent call last)",
      "\u001b[1;32m<ipython-input-17-9fefe4f9c353>\u001b[0m in \u001b[0;36m<module>\u001b[1;34m\u001b[0m\n\u001b[0;32m     15\u001b[0m      ['N', 'B', 'N', 'B', 'B', 'N', 'N', 'B']]\n\u001b[0;32m     16\u001b[0m \u001b[0mB\u001b[0m \u001b[1;33m=\u001b[0m \u001b[0mnp\u001b[0m\u001b[1;33m.\u001b[0m\u001b[0marray\u001b[0m\u001b[1;33m(\u001b[0m\u001b[0mB\u001b[0m\u001b[1;33m)\u001b[0m\u001b[1;33m\u001b[0m\u001b[1;33m\u001b[0m\u001b[0m\n\u001b[1;32m---> 17\u001b[1;33m \u001b[0mprint\u001b[0m\u001b[1;33m(\u001b[0m\u001b[0mjugar3mb013\u001b[0m\u001b[1;33m(\u001b[0m\u001b[0mA\u001b[0m\u001b[1;33m[\u001b[0m\u001b[1;36m0\u001b[0m\u001b[1;33m:\u001b[0m\u001b[0mlen\u001b[0m\u001b[1;33m(\u001b[0m\u001b[0mA\u001b[0m\u001b[1;33m)\u001b[0m\u001b[1;33m//\u001b[0m\u001b[1;36m2\u001b[0m\u001b[1;33m,\u001b[0m\u001b[1;36m0\u001b[0m\u001b[1;33m:\u001b[0m\u001b[0mlen\u001b[0m\u001b[1;33m(\u001b[0m\u001b[0mA\u001b[0m\u001b[1;33m)\u001b[0m\u001b[1;33m//\u001b[0m\u001b[1;36m2\u001b[0m\u001b[1;33m]\u001b[0m\u001b[1;33m,\u001b[0m \u001b[1;36m1\u001b[0m\u001b[1;33m)\u001b[0m\u001b[1;33m)\u001b[0m\u001b[1;33m\u001b[0m\u001b[1;33m\u001b[0m\u001b[0m\n\u001b[0m\u001b[0;32m     18\u001b[0m \u001b[0mprint\u001b[0m\u001b[1;33m(\u001b[0m\u001b[0mconstruirSigNivel\u001b[0m\u001b[1;33m(\u001b[0m\u001b[0mB\u001b[0m\u001b[1;33m)\u001b[0m\u001b[1;33m)\u001b[0m\u001b[1;33m\u001b[0m\u001b[1;33m\u001b[0m\u001b[0m\n",
      "\u001b[1;32m<ipython-input-16-d12914dce27c>\u001b[0m in \u001b[0;36mjugar3mb013\u001b[1;34m(A, k)\u001b[0m\n\u001b[0;32m     39\u001b[0m         \u001b[0mA\u001b[0m \u001b[1;33m=\u001b[0m \u001b[0mnp\u001b[0m\u001b[1;33m.\u001b[0m\u001b[0marray\u001b[0m\u001b[1;33m(\u001b[0m\u001b[0mA\u001b[0m\u001b[1;33m)\u001b[0m\u001b[1;33m\u001b[0m\u001b[1;33m\u001b[0m\u001b[0m\n\u001b[0;32m     40\u001b[0m         \u001b[0mT\u001b[0m \u001b[1;33m=\u001b[0m \u001b[0mconstruirSigNivel\u001b[0m\u001b[1;33m(\u001b[0m\u001b[0mA\u001b[0m\u001b[1;33m)\u001b[0m                 \u001b[1;31m#O(n^2)\u001b[0m\u001b[1;33m\u001b[0m\u001b[1;33m\u001b[0m\u001b[0m\n\u001b[1;32m---> 41\u001b[1;33m         \u001b[0mresJ\u001b[0m \u001b[1;33m=\u001b[0m \u001b[0mjugar3mb013\u001b[0m\u001b[1;33m(\u001b[0m\u001b[0mT\u001b[0m\u001b[1;33m,\u001b[0m \u001b[0mnivel\u001b[0m\u001b[1;33m)\u001b[0m             \u001b[1;31m#O(n)\u001b[0m\u001b[1;33m\u001b[0m\u001b[1;33m\u001b[0m\u001b[0m\n\u001b[0m\u001b[0;32m     42\u001b[0m         \u001b[1;32mif\u001b[0m \u001b[0mresJ\u001b[0m\u001b[1;33m[\u001b[0m\u001b[1;36m0\u001b[0m\u001b[1;33m]\u001b[0m \u001b[1;33m>\u001b[0m \u001b[0mresJ\u001b[0m\u001b[1;33m[\u001b[0m\u001b[1;36m1\u001b[0m\u001b[1;33m]\u001b[0m\u001b[1;33m:\u001b[0m\u001b[1;33m\u001b[0m\u001b[1;33m\u001b[0m\u001b[0m\n\u001b[0;32m     43\u001b[0m             \u001b[0mpuntN\u001b[0m\u001b[1;33m+=\u001b[0m\u001b[1;36m1\u001b[0m\u001b[1;33m\u001b[0m\u001b[1;33m\u001b[0m\u001b[0m\n",
      "\u001b[1;32m<ipython-input-16-d12914dce27c>\u001b[0m in \u001b[0;36mjugar3mb013\u001b[1;34m(A, k)\u001b[0m\n\u001b[0;32m     38\u001b[0m     \u001b[1;32mwhile\u001b[0m \u001b[0mnivel\u001b[0m \u001b[1;33m<=\u001b[0m \u001b[0mk\u001b[0m\u001b[1;33m:\u001b[0m                           \u001b[1;31m#k*\u001b[0m\u001b[1;33m\u001b[0m\u001b[1;33m\u001b[0m\u001b[0m\n\u001b[0;32m     39\u001b[0m         \u001b[0mA\u001b[0m \u001b[1;33m=\u001b[0m \u001b[0mnp\u001b[0m\u001b[1;33m.\u001b[0m\u001b[0marray\u001b[0m\u001b[1;33m(\u001b[0m\u001b[0mA\u001b[0m\u001b[1;33m)\u001b[0m\u001b[1;33m\u001b[0m\u001b[1;33m\u001b[0m\u001b[0m\n\u001b[1;32m---> 40\u001b[1;33m         \u001b[0mT\u001b[0m \u001b[1;33m=\u001b[0m \u001b[0mconstruirSigNivel\u001b[0m\u001b[1;33m(\u001b[0m\u001b[0mA\u001b[0m\u001b[1;33m)\u001b[0m                 \u001b[1;31m#O(n^2)\u001b[0m\u001b[1;33m\u001b[0m\u001b[1;33m\u001b[0m\u001b[0m\n\u001b[0m\u001b[0;32m     41\u001b[0m         \u001b[0mresJ\u001b[0m \u001b[1;33m=\u001b[0m \u001b[0mjugar3mb013\u001b[0m\u001b[1;33m(\u001b[0m\u001b[0mT\u001b[0m\u001b[1;33m,\u001b[0m \u001b[0mnivel\u001b[0m\u001b[1;33m)\u001b[0m             \u001b[1;31m#O(n)\u001b[0m\u001b[1;33m\u001b[0m\u001b[1;33m\u001b[0m\u001b[0m\n\u001b[0;32m     42\u001b[0m         \u001b[1;32mif\u001b[0m \u001b[0mresJ\u001b[0m\u001b[1;33m[\u001b[0m\u001b[1;36m0\u001b[0m\u001b[1;33m]\u001b[0m \u001b[1;33m>\u001b[0m \u001b[0mresJ\u001b[0m\u001b[1;33m[\u001b[0m\u001b[1;36m1\u001b[0m\u001b[1;33m]\u001b[0m\u001b[1;33m:\u001b[0m\u001b[1;33m\u001b[0m\u001b[1;33m\u001b[0m\u001b[0m\n",
      "\u001b[1;32m<ipython-input-16-d12914dce27c>\u001b[0m in \u001b[0;36mconstruirSigNivel\u001b[1;34m(A)\u001b[0m\n\u001b[0;32m     22\u001b[0m     \u001b[0mn\u001b[0m \u001b[1;33m=\u001b[0m \u001b[0mlen\u001b[0m\u001b[1;33m(\u001b[0m\u001b[0mA\u001b[0m\u001b[1;33m)\u001b[0m\u001b[1;33m\u001b[0m\u001b[1;33m\u001b[0m\u001b[0m\n\u001b[0;32m     23\u001b[0m     \u001b[0mA\u001b[0m \u001b[1;33m=\u001b[0m \u001b[0mnp\u001b[0m\u001b[1;33m.\u001b[0m\u001b[0marray\u001b[0m\u001b[1;33m(\u001b[0m\u001b[0mA\u001b[0m\u001b[1;33m)\u001b[0m\u001b[1;33m\u001b[0m\u001b[1;33m\u001b[0m\u001b[0m\n\u001b[1;32m---> 24\u001b[1;33m     \u001b[0mg1\u001b[0m \u001b[1;33m=\u001b[0m \u001b[0mconstruirSigNivel\u001b[0m\u001b[1;33m(\u001b[0m\u001b[0mA\u001b[0m\u001b[1;33m[\u001b[0m\u001b[1;36m0\u001b[0m\u001b[1;33m:\u001b[0m\u001b[0mn\u001b[0m\u001b[1;33m//\u001b[0m\u001b[1;36m2\u001b[0m\u001b[1;33m,\u001b[0m\u001b[1;36m0\u001b[0m\u001b[1;33m:\u001b[0m\u001b[0mn\u001b[0m\u001b[1;33m//\u001b[0m\u001b[1;36m2\u001b[0m\u001b[1;33m]\u001b[0m\u001b[1;33m)\u001b[0m            \u001b[1;31m#T(n/4)\u001b[0m\u001b[1;33m\u001b[0m\u001b[1;33m\u001b[0m\u001b[0m\n\u001b[0m\u001b[0;32m     25\u001b[0m     \u001b[0mg2\u001b[0m \u001b[1;33m=\u001b[0m \u001b[0mconstruirSigNivel\u001b[0m\u001b[1;33m(\u001b[0m\u001b[0mA\u001b[0m\u001b[1;33m[\u001b[0m\u001b[1;36m0\u001b[0m\u001b[1;33m:\u001b[0m\u001b[0mlen\u001b[0m\u001b[1;33m(\u001b[0m\u001b[0mA\u001b[0m\u001b[1;33m)\u001b[0m\u001b[1;33m//\u001b[0m\u001b[1;36m2\u001b[0m\u001b[1;33m,\u001b[0m\u001b[0mn\u001b[0m\u001b[1;33m//\u001b[0m\u001b[1;36m2\u001b[0m\u001b[1;33m:\u001b[0m\u001b[0mn\u001b[0m\u001b[1;33m]\u001b[0m\u001b[1;33m)\u001b[0m       \u001b[1;31m#T(n/4)\u001b[0m\u001b[1;33m\u001b[0m\u001b[1;33m\u001b[0m\u001b[0m\n\u001b[0;32m     26\u001b[0m     \u001b[0mg3\u001b[0m \u001b[1;33m=\u001b[0m \u001b[0mconstruirSigNivel\u001b[0m\u001b[1;33m(\u001b[0m\u001b[0mA\u001b[0m\u001b[1;33m[\u001b[0m\u001b[0mn\u001b[0m\u001b[1;33m//\u001b[0m\u001b[1;36m2\u001b[0m\u001b[1;33m:\u001b[0m\u001b[0mn\u001b[0m\u001b[1;33m,\u001b[0m\u001b[1;36m0\u001b[0m\u001b[1;33m:\u001b[0m\u001b[0mn\u001b[0m\u001b[1;33m//\u001b[0m\u001b[1;36m2\u001b[0m\u001b[1;33m]\u001b[0m\u001b[1;33m)\u001b[0m            \u001b[1;31m#T(n/4)\u001b[0m\u001b[1;33m\u001b[0m\u001b[1;33m\u001b[0m\u001b[0m\n",
      "... last 1 frames repeated, from the frame below ...\n",
      "\u001b[1;32m<ipython-input-16-d12914dce27c>\u001b[0m in \u001b[0;36mconstruirSigNivel\u001b[1;34m(A)\u001b[0m\n\u001b[0;32m     22\u001b[0m     \u001b[0mn\u001b[0m \u001b[1;33m=\u001b[0m \u001b[0mlen\u001b[0m\u001b[1;33m(\u001b[0m\u001b[0mA\u001b[0m\u001b[1;33m)\u001b[0m\u001b[1;33m\u001b[0m\u001b[1;33m\u001b[0m\u001b[0m\n\u001b[0;32m     23\u001b[0m     \u001b[0mA\u001b[0m \u001b[1;33m=\u001b[0m \u001b[0mnp\u001b[0m\u001b[1;33m.\u001b[0m\u001b[0marray\u001b[0m\u001b[1;33m(\u001b[0m\u001b[0mA\u001b[0m\u001b[1;33m)\u001b[0m\u001b[1;33m\u001b[0m\u001b[1;33m\u001b[0m\u001b[0m\n\u001b[1;32m---> 24\u001b[1;33m     \u001b[0mg1\u001b[0m \u001b[1;33m=\u001b[0m \u001b[0mconstruirSigNivel\u001b[0m\u001b[1;33m(\u001b[0m\u001b[0mA\u001b[0m\u001b[1;33m[\u001b[0m\u001b[1;36m0\u001b[0m\u001b[1;33m:\u001b[0m\u001b[0mn\u001b[0m\u001b[1;33m//\u001b[0m\u001b[1;36m2\u001b[0m\u001b[1;33m,\u001b[0m\u001b[1;36m0\u001b[0m\u001b[1;33m:\u001b[0m\u001b[0mn\u001b[0m\u001b[1;33m//\u001b[0m\u001b[1;36m2\u001b[0m\u001b[1;33m]\u001b[0m\u001b[1;33m)\u001b[0m            \u001b[1;31m#T(n/4)\u001b[0m\u001b[1;33m\u001b[0m\u001b[1;33m\u001b[0m\u001b[0m\n\u001b[0m\u001b[0;32m     25\u001b[0m     \u001b[0mg2\u001b[0m \u001b[1;33m=\u001b[0m \u001b[0mconstruirSigNivel\u001b[0m\u001b[1;33m(\u001b[0m\u001b[0mA\u001b[0m\u001b[1;33m[\u001b[0m\u001b[1;36m0\u001b[0m\u001b[1;33m:\u001b[0m\u001b[0mlen\u001b[0m\u001b[1;33m(\u001b[0m\u001b[0mA\u001b[0m\u001b[1;33m)\u001b[0m\u001b[1;33m//\u001b[0m\u001b[1;36m2\u001b[0m\u001b[1;33m,\u001b[0m\u001b[0mn\u001b[0m\u001b[1;33m//\u001b[0m\u001b[1;36m2\u001b[0m\u001b[1;33m:\u001b[0m\u001b[0mn\u001b[0m\u001b[1;33m]\u001b[0m\u001b[1;33m)\u001b[0m       \u001b[1;31m#T(n/4)\u001b[0m\u001b[1;33m\u001b[0m\u001b[1;33m\u001b[0m\u001b[0m\n\u001b[0;32m     26\u001b[0m     \u001b[0mg3\u001b[0m \u001b[1;33m=\u001b[0m \u001b[0mconstruirSigNivel\u001b[0m\u001b[1;33m(\u001b[0m\u001b[0mA\u001b[0m\u001b[1;33m[\u001b[0m\u001b[0mn\u001b[0m\u001b[1;33m//\u001b[0m\u001b[1;36m2\u001b[0m\u001b[1;33m:\u001b[0m\u001b[0mn\u001b[0m\u001b[1;33m,\u001b[0m\u001b[1;36m0\u001b[0m\u001b[1;33m:\u001b[0m\u001b[0mn\u001b[0m\u001b[1;33m//\u001b[0m\u001b[1;36m2\u001b[0m\u001b[1;33m]\u001b[0m\u001b[1;33m)\u001b[0m            \u001b[1;31m#T(n/4)\u001b[0m\u001b[1;33m\u001b[0m\u001b[1;33m\u001b[0m\u001b[0m\n",
      "\u001b[1;31mRecursionError\u001b[0m: maximum recursion depth exceeded while calling a Python object"
     ]
    }
   ],
   "source": [
    "#Tests\n",
    "A = [['N', 'N', 'B', 'B'],\n",
    "     ['N', 'N', 'N', 'N'],\n",
    "     ['B', 'B', 'B', 'B'],\n",
    "     ['N', 'B', 'B', 'N']]\n",
    "\n",
    "A = np.array(A)\n",
    "B = [['N', 'N', 'B', 'B', 'N', 'B', 'B', 'B'],\n",
    "     ['N', 'N', 'N', 'N', 'B', 'N', 'B', 'N'],\n",
    "     ['B', 'B', 'B', 'B', 'N', 'N', 'N', 'N'],\n",
    "     ['N', 'B', 'B', 'N', 'N', 'B', 'B', 'B'],\n",
    "     ['B', 'N', 'B', 'N', 'B', 'N', 'B', 'N'],\n",
    "     ['N', 'N', 'N', 'B', 'B', 'B', 'N', 'N'],\n",
    "     ['B', 'B', 'N', 'N', 'B', 'N', 'B', 'N'],\n",
    "     ['N', 'B', 'N', 'B', 'B', 'N', 'N', 'B']]\n",
    "B = np.array(B)\n",
    "print(jugar3mb013(A[0:len(A)//2,0:len(A)//2], 1))\n",
    "print(construirSigNivel(B))"
   ]
  },
  {
   "cell_type": "markdown",
   "metadata": {},
   "source": [
    "#### 2do cuatrimestre 2019 (Parcial)\n",
    "COMPLETAR"
   ]
  },
  {
   "cell_type": "code",
   "execution_count": null,
   "metadata": {},
   "outputs": [],
   "source": [
    "#Solución\n",
    "def buscarHueco(A, fi, ci):  #fi = fila de inicio, ci = columna de inicio\n",
    "    if len(A) == 2:                        #casos base\n",
    "        if A[0][0]+1 != A[1][0]:\n",
    "            return (1 + fi, 0 + ci)\n",
    "        elif A[0][0]+1 != A[0][1]:\n",
    "            return (0 + fi, 1 + ci)\n",
    "        elif A[0][0]+2 != A[1][1]:\n",
    "            return (1 + fi, 1 + ci)\n",
    "        else:\n",
    "            return (0, 0)\n",
    "        \n",
    "    n = len(A)\n",
    "    if A[0][n//2] != A[0][n//2-1]+1:    #casos en los que el hueco está al comienzo de una submatriz\n",
    "        return (0 + fi, n//2 + ci)\n",
    "    elif A[n//2][0] != A[n//2-1][0]+1:\n",
    "        return (n//2 + fi, 0 + ci)\n",
    "    elif A[n//2][n//2] != A[n//2-1][n//2]+1:\n",
    "        return (n//2 + fi, n//2 + fi)\n",
    "        \n",
    "    if (A[n//2-1][n//2-1] - A[0][0]) != 2*(n//2-1):    #casos recursivos\n",
    "        return buscarHueco(A[0:n//2,0:n//2], 0 + fi, 0 + ci)         #T(n/4)\n",
    "    elif (A[n//2-1][n-1] - A[0][n//2]) != 2*(n//2-1):\n",
    "        return buscarHueco(A[0:n//2,n//2:n], 0 + fi, n//2 + ci)      #T(n/4)   \n",
    "    elif (A[n-1][n//2-1] - A[n//2][0]) != 2*(n//2-1):\n",
    "        return buscarHueco(A[n//2:n,0:n//2], n//2 + fi, 0 + ci)      #T(n/4)\n",
    "    elif (A[n//2][n//2] - A[n-1][n-1]) != 2*(n//2-1):\n",
    "        return buscarHueco(A[n//2:n,n//2:n], n//2 + fi, n//2 + ci)   #T(n/4)"
   ]
  },
  {
   "cell_type": "code",
   "execution_count": null,
   "metadata": {},
   "outputs": [],
   "source": [
    "#Tests\n",
    "A = [[1, 2, 3, 4],    #Respuesta esperada: (1,1) (caso normal)\n",
    "     [2, 4, 5, 6],\n",
    "     [3, 5, 6, 7],\n",
    "     [4, 6, 7, 8]]\n",
    "A = np.array(A)\n",
    "\n",
    "B = [[1, 2, 3, 4],    #Respuesta esperada: (2,2) (hueco al comienzo de submatriz)\n",
    "     [2, 3, 4, 5],\n",
    "     [3, 4, 6, 7],\n",
    "     [4, 5, 7, 8]]\n",
    "B = np.array(B)\n",
    "\n",
    "C = [[1, 2, 3, 4],    #Respuesta esperada: (0,0) (sin hueco)\n",
    "     [2, 3, 4, 5],\n",
    "     [3, 4, 5, 6],\n",
    "     [4, 5, 6, 7]]\n",
    "C = np.array(C)\n",
    "\n",
    "D = [[1, 2, 3, 4],    #Respuesta esperada: (1,3) (hueco en columna)\n",
    "     [2, 3, 4, 6],\n",
    "     [3, 4, 5, 7],\n",
    "     [4, 5, 6, 8]]\n",
    "D = np.array(D)\n",
    "\n",
    "E = [[1, 2, 3, 4, 5, 6, 7, 8],         #Respuesta esperada: (5,6)\n",
    "     [2, 3, 4, 5, 6, 7, 8, 9],\n",
    "     [3, 4, 5, 6, 7, 8, 9, 10],\n",
    "     [4, 5, 6, 7, 8, 9, 10, 11],\n",
    "     [5, 6, 7, 8, 9, 10, 11, 12],\n",
    "     [6, 7, 8, 9, 10, 11, 13, 14],\n",
    "     [7, 8, 9, 10, 11, 12, 14, 15],\n",
    "     [8, 9, 10, 11, 12, 13, 15, 16]]\n",
    "E = np.array(E)\n",
    "\n",
    "print(\"Resultado test 1: \", buscarHueco(A, 0, 0))\n",
    "print(\"Resultado test 2: \", buscarHueco(B, 0, 0))\n",
    "print(\"Resultado test 3: \", buscarHueco(C, 0, 0))\n",
    "print(\"Resultado test 4: \", buscarHueco(D, 0, 0))\n",
    "print(\"Resultado test 5: \", buscarHueco(E, 0, 0))"
   ]
  },
  {
   "cell_type": "markdown",
   "metadata": {},
   "source": [
    "**Complejidad**: La recurrencia es de la forma T(n) = T(n/4) + O(1)."
   ]
  },
  {
   "cell_type": "markdown",
   "metadata": {},
   "source": [
    "### 3) Divide & Conquer sobre árboles"
   ]
  },
  {
   "cell_type": "markdown",
   "metadata": {},
   "source": [
    "#### 1er Cuatrimestre 2018 (Parcial)\n",
    "La copa de un árbol binario de naturales está formada por los primeros niveles (completos) del árbol cuyos elementos coincidan con el de la raíz. Por ejemplo, el siguiente ́arbol tiene una copa de tamaño 2 (formada por el nodo raíz y sus dos hijos), aunque si el nodo marcado en gris tuviese un 5 en lugar de un 4, el ́arbol tendría una copa de tamaño 3. <br/>\n",
    "<center>\n",
    "<img src=\"D&C_pics/copamaxima.jpg\" alt=\"drawing\" width=\"400\" /> <br/>\n",
    "    </center>\n",
    "Se pide diseñar un algoritmo de tipo Divide & Conquer que dado un ́arbol binario de naturales, indique el tamaño máximo de copa entre todos los subárboles del mismo (consideramos que un árbol es también subárbol de sí mismo). En el ejemplo anterior, la respuesta sería 3, dada por el subárbol izquierdo de la raíz del árbol (cuya copa de tamaño 3 está enmarcada en el triángulo). El algoritmo diseñado debe tener una complejidad de peor caso de O(n), siendo n la cantidad de nodos del arbol. Se pide además:\n",
    "<br/> 1. Justificar la complejidad del algoritmo suponiendo que el árbol está balanceado.\n",
    "<br/> 2. Justificar la complejiad del algoritmo en el caso en que el árbol no esté balanceado."
   ]
  },
  {
   "cell_type": "code",
   "execution_count": null,
   "metadata": {},
   "outputs": [],
   "source": [
    "#Solución\n",
    "def copaMaxima(A):\n",
    "    if A.left == None or A.right == None:\n",
    "        return 1\n",
    "    resIzq = copaMaxima(A.left)\n",
    "    resDer = copaMaxima(A.right)\n",
    "    if A.value == (A.right).value and A.value == (A.left).value:\n",
    "        if resDer == resIzq:\n",
    "            return resDer + 1\n",
    "    return max(resDer, resIzq)"
   ]
  },
  {
   "cell_type": "code",
   "execution_count": null,
   "metadata": {},
   "outputs": [],
   "source": [
    "#Tests\n",
    "valuesA = [5,5,5,5,5,4,5,5,5,5,5,3,1,3,2]\n",
    "A = build(valuesA)\n",
    "print(A)\n",
    "print(\"Resultado test 1:\", copaMaxima(A))\n",
    "valuesB = [5,5,4,5,5,5,5,5,5,3,1,3,2,1]\n",
    "B = build(valuesB)\n",
    "print(B)\n",
    "print(\"Resultado test 2:\", copaMaxima(B))\n",
    "valuesC = generarRandomArr(1,6,8)\n",
    "C = build(valuesC)\n",
    "print(C)\n",
    "print(\"Resultado random test 1:\", copaMaxima(C))"
   ]
  },
  {
   "cell_type": "markdown",
   "metadata": {},
   "source": [
    "**Complejidad**: </br>\n",
    "1. Si el árbol está balanceado, se puede usar el Teorema Maestro. La recurrencia es de la forma T(n) = 2 T(n/2) + O(1) -> O(n)\n",
    "2. Si el árbol no está balanceado, se puede usar un árbol de recursión. La complejidad también es O(n) porque se pasa por cada nodo una única vez."
   ]
  },
  {
   "cell_type": "markdown",
   "metadata": {},
   "source": [
    "#### 2do cuatrimestre 2018 (Parcial)\n",
    "Decimos que un  ́arbol binario de booleanos esta equilibrado si para todo nodo del arbol ocurre que la cantidad\n",
    "de falsos en su subarbol izquierdo difiere en a lo sumo uno con la cantidad de verdaderos en su subarbol derecho.\n",
    "Sabiendo que contamos con las operaciones de  ́arbol binario *nil*?, *raiz*, *izq* y *der*, cuyas complejidades temporales son O(1), proponer un algoritmo que utilice la técnica de Dividir y Conquistar para determinar si un arbol binario de booleanos esta equilibrado. El algoritmo propuesto debe tener complejidad O(n), donde n es la cantidad de nodos del arbol, sin importar si el mismo esta o no balanceado (notar que estar equilibrado no implica estar balanceado ni viceversa). La complejidad del algoritmo debe estar correctamente justificada."
   ]
  },
  {
   "cell_type": "code",
   "execution_count": null,
   "metadata": {},
   "outputs": [],
   "source": [
    "#Solución\n",
    "def arboolEquilibrado(A):\n",
    "    #print(A.value)             #Habilitar para ver complejidad (qué nodos recorre y cuántas veces)\n",
    "    if A.left == None and A.right == None:\n",
    "        if A.value == False:\n",
    "            return (True, 1)    #Equilibrado?, #Falsos\n",
    "        else:\n",
    "            return (True, 0)\n",
    "    fraiz = 0\n",
    "    if A.value == False:\n",
    "        fraiz = 1\n",
    "    subIzq = arboolEquilibrado(A.left)\n",
    "    subDer = arboolEquilibrado(A.right)\n",
    "    return (subIzq[0] and subDer[0] and abs(subIzq[1] - subDer[1]) < 2, subIzq[1] + subDer[1] + fraiz)"
   ]
  },
  {
   "cell_type": "code",
   "execution_count": null,
   "metadata": {},
   "outputs": [],
   "source": [
    "#Tests\n",
    "valuesA = [True, False, False, False, False]\n",
    "A = build(valuesA)\n",
    "print(A)\n",
    "print(arboolEquilibrado(A))\n",
    "valuesB = [True, False, False, True, False]\n",
    "B = build(valuesB)\n",
    "print(B)\n",
    "print(arboolEquilibrado(B))"
   ]
  },
  {
   "cell_type": "markdown",
   "metadata": {},
   "source": [
    "**Complejidad**: O(n), donde n es la cantidad de nodos del árbol, ya que se recorre cada nodo una única vez. Se puede mostrar con un árbol de recursión (ver comentario en función)."
   ]
  },
  {
   "cell_type": "code",
   "execution_count": null,
   "metadata": {},
   "outputs": [],
   "source": []
  }
 ],
 "metadata": {
  "kernelspec": {
   "display_name": "Python 3",
   "language": "python",
   "name": "python3"
  },
  "language_info": {
   "codemirror_mode": {
    "name": "ipython",
    "version": 3
   },
   "file_extension": ".py",
   "mimetype": "text/x-python",
   "name": "python",
   "nbconvert_exporter": "python",
   "pygments_lexer": "ipython3",
   "version": "3.7.4"
  }
 },
 "nbformat": 4,
 "nbformat_minor": 4
}
